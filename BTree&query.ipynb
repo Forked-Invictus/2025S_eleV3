{
 "cells": [
  {
   "cell_type": "code",
   "execution_count": 1,
   "metadata": {},
   "outputs": [],
   "source": [
    "import pandas as pd\n",
    "import numpy as np"
   ]
  },
  {
   "cell_type": "code",
   "execution_count": 39,
   "metadata": {},
   "outputs": [],
   "source": [
    "class BTreeNode:\n",
    "    def __init__(self, leaf=False):\n",
    "        self.leaf = leaf  # 是否是叶子结点\n",
    "        self.keys = []  # 存储 (key, [values]) 键值对\n",
    "        self.children = []  # 存储子节点\n",
    "\n",
    "class BTree:\n",
    "    def __init__(self, t):\n",
    "        self.root = BTreeNode(True)  # 创建根节点\n",
    "        self.t = t  # 最小度数（决定树的结构）\n",
    "\n",
    "    def search(self, key, node=None):\n",
    "        \"\"\"在 B-Tree 中搜索 key 对应的 values（list）\"\"\"\n",
    "        if node is None:\n",
    "            node = self.root\n",
    "\n",
    "        i = 0\n",
    "        while i < len(node.keys) and node.keys[i][0] < key:  \n",
    "            i += 1\n",
    "\n",
    "        if i < len(node.keys) and node.keys[i][0] == key:  \n",
    "            return node.keys[i][1]  # 返回 values 列表\n",
    "\n",
    "        if node.leaf:  \n",
    "            return None\n",
    "\n",
    "        return self.search(key, node.children[i])\n",
    "\n",
    "    def insert(self, key, value):\n",
    "        \"\"\"插入 (key, value) 到 B-Tree\"\"\"\n",
    "        root = self.root\n",
    "        if len(root.keys) == (2 * self.t) - 1:  \n",
    "            new_root = BTreeNode(False)\n",
    "            new_root.children.append(self.root)\n",
    "            self._split_child(new_root, 0)\n",
    "            self.root = new_root  \n",
    "        self._insert_non_full(self.root, key, value)\n",
    "\n",
    "    def _insert_non_full(self, node, key, value):\n",
    "        \"\"\"向非满节点插入 (key, value)\"\"\"\n",
    "        i = len(node.keys) - 1\n",
    "        if node.leaf:\n",
    "            while i >= 0 and node.keys[i][0] > key:  \n",
    "                i -= 1\n",
    "            if i >= 0 and node.keys[i][0] == key:  \n",
    "                node.keys[i][1].append(value)  # 追加到已有 key\n",
    "            else:\n",
    "                node.keys.insert(i + 1, (key, [value]))  \n",
    "        else:\n",
    "            while i >= 0 and node.keys[i][0] > key:\n",
    "                i -= 1\n",
    "            i += 1\n",
    "            if len(node.children[i].keys) == (2 * self.t) - 1:  \n",
    "                self._split_child(node, i)\n",
    "                if key > node.keys[i][0]:  \n",
    "                    i += 1\n",
    "            self._insert_non_full(node.children[i], key, value)\n",
    "\n",
    "    def _split_child(self, parent, i):\n",
    "        \"\"\"分裂一个满的子节点\"\"\"\n",
    "        t = self.t\n",
    "        full_child = parent.children[i]\n",
    "        new_child = BTreeNode(full_child.leaf)\n",
    "\n",
    "        parent.keys.insert(i, full_child.keys[t - 1])  \n",
    "        parent.children.insert(i + 1, new_child)\n",
    "\n",
    "        new_child.keys = full_child.keys[t:]  \n",
    "        full_child.keys = full_child.keys[:t - 1]  \n",
    "\n",
    "        if not full_child.leaf:  \n",
    "            new_child.children = full_child.children[t:]\n",
    "            full_child.children = full_child.children[:t]\n",
    "\n",
    "    def traverse(self, node=None):\n",
    "        \"\"\"遍历 B-Tree，按 key 递增顺序打印\"\"\"\n",
    "        if node is None:\n",
    "            node = self.root\n",
    "\n",
    "        for i in range(len(node.keys)):\n",
    "            if not node.leaf:\n",
    "                self.traverse(node.children[i])\n",
    "            print(f\"{node.keys[i][0]}: {node.keys[i][1]}\", end=\"  \")\n",
    "\n",
    "        if not node.leaf:\n",
    "            self.traverse(node.children[-1])\n"
   ]
  },
  {
   "cell_type": "code",
   "execution_count": null,
   "metadata": {},
   "outputs": [],
   "source": [
    "def transform_df(df,column_name):\n",
    "    if column_name == \"index\":\n",
    "        turple_list = [(x,y) for x,y in zip(df[\"index\"].to_list(),df[\"kwh_per_acc\"].to_list())]\n",
    "    else:\n",
    "        turple_list = [(x,y) for x,y in zip(df[column_name].to_list(),df[\"index\"].to_list())]\n",
    "        \n",
    "    return turple_list\n"
   ]
  },
  {
   "cell_type": "code",
   "execution_count": null,
   "metadata": {},
   "outputs": [],
   "source": [
    "df = pd.read_csv(\"data.csv\")\n",
    "df[\"index\"] = df.index"
   ]
  },
  {
   "cell_type": "code",
   "execution_count": 44,
   "metadata": {},
   "outputs": [],
   "source": [
    "def transform2Tree(column_list):\n",
    "    tree_dict = {}\n",
    "    for i in column_list:\n",
    "        tuple_unit = transform_df(df,i)\n",
    "        tree = BTree(3)\n",
    "        for key,value in tuple_unit:\n",
    "            tree.insert(key,value)\n",
    "        tree_dict[i] = tree\n",
    "    return tree_dict\n",
    "column_list = [\"index\",\"Identifier\",\"dwelling_type\",\"Region\",\"day\",\"time\"]\n",
    "tree_dict = transform2Tree(column_list)\n"
   ]
  },
  {
   "cell_type": "code",
   "execution_count": 57,
   "metadata": {},
   "outputs": [],
   "source": [
    "def ele_query(tree_dict,Identifier=None,dwelling_type=None,Region=None,day=None,time=None):\n",
    "    \"\"\"\n",
    "    \"index\",\"Identifier\",\"dwelling_type\",\"Region\",\"day\",\"time\"\n",
    "    \"\"\"\n",
    "    dict_parameter = {\"Identifier\":Identifier,\"dwelling_type\":dwelling_type,\"Region\":Region,\"day\":day,\"time\":time}\n",
    "    query_result_list=[]\n",
    "    activatd_parameter_list = []\n",
    "    for key,value in dict_parameter.items():\n",
    "        if value is not None:\n",
    "            tree_selected = tree_dict[key]\n",
    "            unit_result = tree_selected.search(value)\n",
    "            query_result_list.append(unit_result)\n",
    "            activatd_parameter_list.append((key,value))\n",
    "        \n",
    "    query_result_index = list(set(query_result_list[0]).intersection(*query_result_list[1:]))\n",
    "    ele_result_dict={}\n",
    "    for num,pair_kk in enumerate(activatd_parameter_list):\n",
    "        name_key=f\"query_info{num}\"\n",
    "        ele_result_dict[name_key] = pair_kk\n",
    "    index_tree = tree_dict[\"index\"]\n",
    "    for i in query_result_index:\n",
    "        ele_result_dict[i] = index_tree.search(i)\n",
    "\n",
    "\n",
    "    return ele_result_dict\n",
    "    "
   ]
  },
  {
   "cell_type": "code",
   "execution_count": 58,
   "metadata": {},
   "outputs": [
    {
     "data": {
      "text/plain": [
       "{'query_info0': ('Identifier', '524-935-527'),\n",
       " 0: [144.5],\n",
       " 1: [140.0],\n",
       " 2: [135.0],\n",
       " 3: [130.0],\n",
       " 4: [125.0],\n",
       " 5: [120.0],\n",
       " 6: [160.0],\n",
       " 7: [190.0],\n",
       " 8: [250.0],\n",
       " 9: [100.0]}"
      ]
     },
     "execution_count": 58,
     "metadata": {},
     "output_type": "execute_result"
    }
   ],
   "source": [
    "ele_query(tree_dict,Identifier=\"524-935-527\")"
   ]
  },
  {
   "cell_type": "code",
   "execution_count": null,
   "metadata": {},
   "outputs": [],
   "source": [
    "df"
   ]
  }
 ],
 "metadata": {
  "kernelspec": {
   "display_name": "Python 3",
   "language": "python",
   "name": "python3"
  },
  "language_info": {
   "codemirror_mode": {
    "name": "ipython",
    "version": 3
   },
   "file_extension": ".py",
   "mimetype": "text/x-python",
   "name": "python",
   "nbconvert_exporter": "python",
   "pygments_lexer": "ipython3",
   "version": "3.12.1"
  }
 },
 "nbformat": 4,
 "nbformat_minor": 2
}
